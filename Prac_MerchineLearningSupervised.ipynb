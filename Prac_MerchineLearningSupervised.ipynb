{
 "cells": [
  {
   "cell_type": "markdown",
   "metadata": {
    "id": "-H6ty0er_M1m"
   },
   "source": [
    "# Machine Learning: Supervised"
   ]
  },
  {
   "cell_type": "markdown",
   "metadata": {
    "id": "OwcohRsf_M1u"
   },
   "source": [
    "## Supervised Learning"
   ]
  },
  {
   "cell_type": "markdown",
   "metadata": {
    "id": "jC6FF14c_M1u"
   },
   "source": [
    "![](https://i163.photobucket.com/albums/t281/kyin_album/m1_1.png)"
   ]
  },
  {
   "cell_type": "markdown",
   "metadata": {
    "id": "10qcHkjI_M1v"
   },
   "source": [
    "![](https://i163.photobucket.com/albums/t281/kyin_album/m6.png)"
   ]
  },
  {
   "cell_type": "markdown",
   "metadata": {
    "id": "cszZFWTd_M1v"
   },
   "source": [
    "# <font color=\"blue\"> Project 1: House Price Prediction"
   ]
  },
  {
   "cell_type": "markdown",
   "metadata": {
    "id": "fqfU8nTm_M1v"
   },
   "source": [
    "In this example, we'll use a linear regression model to predict housing prices based on 1 feature.\n",
    "\n",
    "First, make sure you have scikit-learn installed. You can install it using pip:"
   ]
  },
  {
   "cell_type": "code",
   "execution_count": 2,
   "metadata": {
    "id": "x2jOAF7i_M1w"
   },
   "outputs": [
    {
     "name": "stdout",
     "output_type": "stream",
     "text": [
      "Requirement already satisfied: scikit-learn in c:\\programdata\\anaconda3\\lib\\site-packages (1.3.0)\n",
      "Requirement already satisfied: numpy>=1.17.3 in c:\\programdata\\anaconda3\\lib\\site-packages (from scikit-learn) (1.24.3)\n",
      "Requirement already satisfied: scipy>=1.5.0 in c:\\programdata\\anaconda3\\lib\\site-packages (from scikit-learn) (1.11.1)\n",
      "Requirement already satisfied: joblib>=1.1.1 in c:\\programdata\\anaconda3\\lib\\site-packages (from scikit-learn) (1.2.0)\n",
      "Requirement already satisfied: threadpoolctl>=2.0.0 in c:\\programdata\\anaconda3\\lib\\site-packages (from scikit-learn) (2.2.0)\n",
      "Note: you may need to restart the kernel to use updated packages.\n"
     ]
    }
   ],
   "source": [
    "pip install scikit-learn "
   ]
  },
  {
   "cell_type": "markdown",
   "metadata": {},
   "source": [
    "To know more about scikit-learn : [Scikit-learn Documentation](https://scikit-learn.org/stable/)"
   ]
  },
  {
   "cell_type": "markdown",
   "metadata": {
    "id": "HA16nJku_M1y"
   },
   "source": [
    "## Step 1: Prepare the data"
   ]
  },
  {
   "cell_type": "code",
   "execution_count": 3,
   "metadata": {
    "id": "bZVIZHnG_M1y"
   },
   "outputs": [],
   "source": [
    "# Importing necessary libraries\n",
    "import numpy as np                                         #complete this\n",
    "from sklearn.model_selection import train_test_split            #complete this\n",
    "from sklearn.linear_model import LinearRegression                #complete this\n",
    "from sklearn.metrics import mean_squared_error                     #complete this\n",
    "\n",
    "# Sample dataset: housing prices (target) based on house size (feature)\n",
    "house_sizes = np.array([550, 600, 650, 700, 750, 800, 850, 900, 950, 1000])\n",
    "prices = np.array([300000, 410000, 530000, 510000, 540000, 610000, 730000, 760000, 830000, 860000])"
   ]
  },
  {
   "cell_type": "code",
   "execution_count": 5,
   "metadata": {
    "id": "ePfW9hvu_M1z"
   },
   "outputs": [
    {
     "data": {
      "image/png": "[encoded data removed]",
      "text/plain": [
       "<Figure size 640x480 with 1 Axes>"
      ]
     },
     "metadata": {},
     "output_type": "display_data"
    }
   ],
   "source": [
    "#plot graph prices against house_prices\n",
    "import matplotlib.pyplot as plt                                         #complete this\n",
    "\n",
    "# Create a scatter plot\n",
    "plt.scatter(house_sizes, prices, color='red', label='Data Points')              #complete this\n",
    "plt.xlabel('House Size')                                              #complete this\n",
    "plt.ylabel('Prices')                                             #complete this\n",
    "plt.title('House Prices vs. House Sizes')                                            #complete this\n",
    "plt.legend()\n",
    "plt.grid(True)\n",
    "plt.show()"
   ]
  },
  {
   "cell_type": "markdown",
   "metadata": {
    "id": "2_kESJc7_M1z"
   },
   "source": [
    "## Step 2 & 3 : Feature Extraction and Split the data (into training and testing set)"
   ]
  },
  {
   "cell_type": "code",
   "execution_count": 6,
   "metadata": {
    "id": "5AJw9y30_M10"
   },
   "outputs": [
    {
     "name": "stdout",
     "output_type": "stream",
     "text": [
      "[[ 550]\n",
      " [ 600]\n",
      " [ 650]\n",
      " [ 700]\n",
      " [ 750]\n",
      " [ 800]\n",
      " [ 850]\n",
      " [ 900]\n",
      " [ 950]\n",
      " [1000]]\n",
      "[[950]\n",
      " [600]]\n",
      "[830000 410000]\n"
     ]
    }
   ],
   "source": [
    "# Reshape the feature array to match the input format required by scikit-learn\n",
    "X = house_sizes.reshape(-1,1)                        #complete this #eshape the array into a single column\n",
    "print (X)\n",
    "\n",
    "# Split the dataset into training and testing sets (80% train, 20% test)\n",
    "X_train, X_test, y_train, y_test = train_test_split(X, prices, test_size= 0.2 , random_state=42)      #complete this\n",
    "print (X_test)   \n",
    "print (y_test)"
   ]
  },
  {
   "cell_type": "markdown",
   "metadata": {
    "id": "OmmgSpE9_M10"
   },
   "source": [
    "## Step 4: Fit model and predict outcomes [Code]"
   ]
  },
  {
   "cell_type": "code",
   "execution_count": 7,
   "metadata": {
    "id": "hGZuQoGD_M10"
   },
   "outputs": [
    {
     "name": "stdout",
     "output_type": "stream",
     "text": [
      "['950.00', '600.00']\n",
      "['813793.10', '396206.90']\n"
     ]
    }
   ],
   "source": [
    "# Create the linear regression model\n",
    "model = LinearRegression()                            #complete this\n",
    "\n",
    "# Train the model using the training data\n",
    "model.fit(X_train, y_train)         #complete this\n",
    "\n",
    "# Make predictions on the test data\n",
    "y_pred = model.predict(X_test)      #complete this\n",
    "\n",
    "# Formatting X_test\n",
    "formatted_X_test = [\"%.2f\" % x for x in X_test]\n",
    "print(formatted_X_test)\n",
    "\n",
    "# Formatting y_pred\n",
    "formatted_y_pred = [\"%.2f\" % y for y in y_pred]\n",
    "print(formatted_y_pred)"
   ]
  },
  {
   "cell_type": "code",
   "execution_count": 9,
   "metadata": {},
   "outputs": [
    {
     "name": "stdout",
     "output_type": "stream",
     "text": [
      "Coefficient: [1193.10344828]\n",
      "Intercept: -319655.1724137933\n",
      "Linear Regression Equation: y = 1193.1034482758623 * X + -319655.1724137933\n"
     ]
    }
   ],
   "source": [
    "# the following is the equation of the linear regression model\n",
    "\n",
    "# Print the coefficients\n",
    "print(\"Coefficient:\", model.coef_)                 #complete this\n",
    "print(\"Intercept:\", model.intercept_)                  #complete this\n",
    "\n",
    "# Construct the equation string\n",
    "equation = f\"y = {model.coef_[0]} * X + {model.intercept_}\"\n",
    "print(\"Linear Regression Equation:\", equation)"
   ]
  },
  {
   "cell_type": "markdown",
   "metadata": {
    "id": "PF7M8hcM_M11"
   },
   "source": [
    "## Step 5: Evaluate the model [Code]"
   ]
  },
  {
   "cell_type": "code",
   "execution_count": 10,
   "metadata": {
    "id": "Sun9s3g4_M11"
   },
   "outputs": [
    {
     "name": "stdout",
     "output_type": "stream",
     "text": [
      "Mean Squared Error: 226456599.29\n"
     ]
    }
   ],
   "source": [
    "# Calculate the Mean Squared Error (MSE) as a measure of the model's performancemse = mean_squared_error(y_test, y_pred)\n",
    "from sklearn.metrics import mean_squared_error                   #complete this\n",
    "mse = mean_squared_error(y_test, y_pred)                                          #complete this \n",
    "\n",
    "\n",
    "# Display the MSE with two decimal places using string formatting\n",
    "formatted_mse = \"%.2f\" % mse\n",
    "print(f\"Mean Squared Error: {formatted_mse}\")"
   ]
  },
  {
   "cell_type": "markdown",
   "metadata": {
    "id": "e2plqwoLzjGf"
   },
   "source": [
    "# Step 6: Predict unseen data"
   ]
  },
  {
   "cell_type": "code",
   "execution_count": 13,
   "metadata": {
    "id": "gCyQHYWZx2tu"
   },
   "outputs": [
    {
     "name": "stdout",
     "output_type": "stream",
     "text": [
      "Enter house size:1300\n",
      "Predicted Value (RM): 1231379.31\n"
     ]
    }
   ],
   "source": [
    "# Assuming you have a single unseen data point represented as a list\n",
    "unseen_data = float(input(\"Enter house size:\"))                        #complete this\n",
    "\n",
    "# Reshape the unseen_data to a 2D array\n",
    "unseen_data_reshaped = np.array(unseen_data).reshape(1, -1)       #complete this\n",
    "\n",
    "# Predict the target value for the unseen data point\n",
    "predicted_value = model.predict(unseen_data_reshaped)                                #complete this\n",
    "\n",
    "# Print the predicted value\n",
    "print(f\"Predicted Value (RM): {predicted_value[0]:.2f}\")"
   ]
  },
  {
   "cell_type": "markdown",
   "metadata": {
    "id": "dsKvJ8xTIo2w"
   },
   "source": [
    "# Step 7 Store the model in Joblib"
   ]
  },
  {
   "cell_type": "markdown",
   "metadata": {
    "id": "lW0nzKL4IsNa"
   },
   "source": [
    "Store the model using joblib or pickle"
   ]
  },
  {
   "cell_type": "code",
   "execution_count": null,
   "metadata": {
    "id": "nAAbnSRDIul4"
   },
   "outputs": [],
   "source": [
    "from joblib import dump, load"
   ]
  },
  {
   "cell_type": "code",
   "execution_count": null,
   "metadata": {
    "id": "ncXxyChwIwJ2"
   },
   "outputs": [],
   "source": [
    "dump(model, 'linear_regression_model.joblib')"
   ]
  },
  {
   "cell_type": "markdown",
   "metadata": {
    "id": "yPevzm-EIyi9"
   },
   "source": [
    "Load the model and predict"
   ]
  },
  {
   "cell_type": "code",
   "execution_count": null,
   "metadata": {
    "id": "6GdCi5FjIxVj"
   },
   "outputs": [],
   "source": [
    "model = load('linear_regression_model.joblib')\n",
    "user_input = int(input (\"Enter house size:\"))\n",
    "input_array = np.array([user_input]).reshape(-1, 1)\n",
    "predicted_price = model.predict(input_array)\n",
    "print(f\"Predicted Value: {predicted_price[0]:.2f}\")"
   ]
  },
  {
   "cell_type": "markdown",
   "metadata": {
    "id": "9urnM8Y8I0di"
   },
   "source": [
    "# Deployment"
   ]
  },
  {
   "cell_type": "markdown",
   "metadata": {
    "id": "ohU5zH11I5Er"
   },
   "source": [
    "You can deploy into Streamlit or Flask.\n",
    "Streamlit is an open-source app framework specifically designed for Machine Learning and Data Science projects. It allows data scientists and developers to create beautiful, interactive web apps quickly and with fewer lines of code. Streamlit’s simplicity and efficiency make it a popular choice for building data-driven web applications without the need for in-depth knowledge of web development frameworks.\n",
    "\n",
    "Flask is a lightweight WSGI (Web Server Gateway Interface) web application framework. It is designed to make getting started with web application development quick and easy, with the ability to scale up to complex applications. Flask provides the tools, libraries, and technologies to build a web application. It allows developers to build web applications in Python, offering flexibility and choice in how the applications are built."
   ]
  },
  {
   "cell_type": "markdown",
   "metadata": {
    "id": "v2xY-lT_I9iX"
   },
   "source": [
    "Follow instruction by tutor\n",
    "\n",
    "1) Register Streamlit and link your github account\n",
    "\n",
    "2) Create txt file name requirements, copy the following text into the txt file <br>\n",
    "streamlit\n",
    "joblib\n",
    "numpy\n",
    "scikit-learn"
   ]
  },
  {
   "cell_type": "markdown",
   "metadata": {},
   "source": [
    "![Streamlitlogin](streamlitlogin.png)"
   ]
  },
  {
   "cell_type": "markdown",
   "metadata": {},
   "source": [
    "3) Create another txt file and store the following Streamlit script and save as projectname.py e.g. linear_regression_house_price_prediction.py"
   ]
  },
  {
   "cell_type": "code",
   "execution_count": null,
   "metadata": {
    "id": "XC3jprLII_nz"
   },
   "outputs": [],
   "source": [
    "import streamlit as st\n",
    "from joblib import load\n",
    "import numpy as np\n",
    "\n",
    "# Load the model\n",
    "model = load('linear_regression_model.joblib')\n",
    "\n",
    "# Create a simple user input\n",
    "user_input = st.number_input('Enter house size:', min_value=100, max_value=10000, step=50)\n",
    "\n",
    "# Reshape the input for the model\n",
    "input_array = np.array([user_input]).reshape(-1, 1)\n",
    "\n",
    "# Predict the house price\n",
    "if st.button('Predict Price'):\n",
    "    predicted_price = model.predict(input_array)\n",
    "    st.write(f\"The predicted house price is: ${predicted_price[0]:.2f}\")"
   ]
  },
  {
   "cell_type": "markdown",
   "metadata": {
    "id": "qbNuwFjcJDT6"
   },
   "source": [
    "4) Upload the 2 files which are: requirements.txt and linear_regression_house_price_prediction.py into github and deploy using streamlit. Follow instruction from tutor."
   ]
  },
  {
   "cell_type": "markdown",
   "metadata": {
    "id": "6ms2QHCEJKUe"
   },
   "source": [
    "# <font color=\"blue\"> Project 2: House Price Prediction (2 features)"
   ]
  },
  {
   "cell_type": "markdown",
   "metadata": {
    "id": "VvJjmAFG_M11"
   },
   "source": [
    "In the previous example, we used only one feature, which was the house size, to predict the house prices. This is called a univariate regression. To improve the model's performance, we can use multiple features, which is called a multivariate regression.\n",
    "\n",
    "For instance, we can use additional features like the number of bedrooms, location, age of the house, etc., to make a more accurate prediction of the house prices. Using more relevant features often leads to better predictions.\n",
    "\n",
    "Here's an example of how you can modify the previous code to use two features (house size and number of bedrooms) to predict house prices:"
   ]
  },
  {
   "cell_type": "code",
   "execution_count": 22,
   "metadata": {
    "id": "QSrwuJ7c_M12"
   },
   "outputs": [],
   "source": [
    "import numpy as np                                         #complete this\n",
    "from sklearn.model_selection import train_test_split         #complete this\n",
    "from sklearn.linear_model import LinearRegression          #complete this\n",
    "from sklearn.metrics import mean_squared_error          #complete this\n",
    "\n",
    "# Sample dataset: house sizes and number of bedrooms as features, and prices as the target variable\n",
    "house_sizes = np.array([550, 600, 650, 700, 750, 800, 850, 900, 950, 1000])\n",
    "num_bedrooms = np.array([2,3,4,4,5,5,6,6,7,7])                   #complete this\n",
    "prices = np.array([300000,450000,500000, 550000, 600000, 650000, 700000, 750000, 800000, 850000])         #complete this"
   ]
  },
  {
   "cell_type": "code",
   "execution_count": null,
   "metadata": {
    "id": "iBUQZMG3_M12"
   },
   "outputs": [],
   "source": [
    "import matplotlib.pyplot as plt          #complete this\n",
    "from mpl_toolkits.mplot3d import Axes3D     #complete this\n",
    "\n",
    "# Create a 3D scatter plot\n",
    "fig = plt.figure()\n",
    "ax = fig.                       #complete this\n",
    "\n",
    "# Scatter plot points with house_sizes and num_bedrooms as X and Y, and prices as Z\n",
    "ax.scatter(house_sizes, num_bedrooms, prices, c='', marker='')           #complete this\n",
    "\n",
    "# Labels for axes \n",
    "ax.set_xlabel(' ') #complete this\n",
    "ax.set_ylabel(' ') #complete this\n",
    "ax.set_zlabel(' ') #complete this\n",
    "\n",
    "# Add dotted lines from data points to respective values on X and Y axes\n",
    "for i in range(len(house_sizes)):\n",
    "    ax.plot([house_sizes[i], house_sizes[i]], [num_bedrooms[i], num_bedrooms[i]], [0, prices[i]], c='gray', linestyle='dotted', alpha=0.5)\n",
    "    ax.plot([house_sizes[i], house_sizes[i]], [0, num_bedrooms[i]], [prices[i], prices[i]], c='gray', linestyle='dotted', alpha=0.5)\n",
    "    ax.plot([0, house_sizes[i]], [num_bedrooms[i], num_bedrooms[i]], [prices[i], prices[i]], c='gray', linestyle='dotted', alpha=0.5)\n",
    "\n",
    "plt.title('House Prices vs. House Sizes and Number of Bedrooms')\n",
    "plt.show()"
   ]
  },
  {
   "cell_type": "code",
   "execution_count": 23,
   "metadata": {
    "id": "3G-fUOl1_M12"
   },
   "outputs": [
    {
     "name": "stdout",
     "output_type": "stream",
     "text": [
      "Feature matrix X:\n",
      " [[ 550    2]\n",
      " [ 600    3]\n",
      " [ 650    4]\n",
      " [ 700    4]\n",
      " [ 750    5]\n",
      " [ 800    5]\n",
      " [ 850    6]\n",
      " [ 900    6]\n",
      " [ 950    7]\n",
      " [1000    7]]\n",
      "Formatted X_test:\n",
      "[['950.00' '7.00']\n",
      " ['600.00' '3.00']]\n",
      "Formatted y_pred:\n",
      "['831958.76', '408247.42']\n",
      "Mean Squared Error: 1382320119.03\n"
     ]
    }
   ],
   "source": [
    "from sklearn.metrics import mean_squared_error #complete this\n",
    "\n",
    "# Combine the two features into a single feature matrix X\n",
    "X = np.column_stack ((house_sizes, num_bedrooms))                         #complete this\n",
    "print(\"Feature matrix X:\\n\", X)\n",
    "\n",
    "# Split the dataset into training and testing sets (80% train, 20% test)\n",
    "X_train, X_test, y_train, y_test = train_test_split (X, prices, test_size=0.2 , random_state=42 )   #complete this\n",
    "\n",
    "# Create the linear regression model\n",
    "model = LinearRegression()   #complete this\n",
    "\n",
    "# Train the model using the training data\n",
    "model.fit(X_train, y_train)    #complete this\n",
    "\n",
    "# Make predictions on the test data\n",
    "y_pred = model.predict(X_test)  #complete this \n",
    "\n",
    "# Display the values with two decimal places using string formatting\n",
    "formatted_X_test = np.array([[\"%.2f\" % x[0], \"%.2f\" % x[1]] for x in X_test])\n",
    "formatted_y_pred = [\"%.2f\" % y for y in y_pred]\n",
    "\n",
    "print(\"Formatted X_test:\")\n",
    "print(formatted_X_test)\n",
    "\n",
    "print(\"Formatted y_pred:\")\n",
    "print(formatted_y_pred)\n",
    "\n",
    "# Compute and display Mean Squared Error (MSE)\n",
    "mse = mean_squared_error(y_test, y_pred)\n",
    "formatted_mse = \"%.2f\" % mse\n",
    "print(f\"Mean Squared Error: {formatted_mse}\")"
   ]
  },
  {
   "cell_type": "code",
   "execution_count": 24,
   "metadata": {
    "scrolled": true
   },
   "outputs": [
    {
     "ename": "KeyboardInterrupt",
     "evalue": "Interrupted by user",
     "output_type": "error",
     "traceback": [
      "\u001b[1;31m---------------------------------------------------------------------------\u001b[0m",
      "\u001b[1;31mKeyboardInterrupt\u001b[0m                         Traceback (most recent call last)",
      "Cell \u001b[1;32mIn[24], line 1\u001b[0m\n\u001b[1;32m----> 1\u001b[0m house_size \u001b[38;5;241m=\u001b[39m \u001b[38;5;28mfloat\u001b[39m(\u001b[38;5;28minput\u001b[39m(\u001b[38;5;124m\"\u001b[39m\u001b[38;5;124mEnter the house size (square feet): \u001b[39m\u001b[38;5;124m\"\u001b[39m))     \u001b[38;5;66;03m#complete this\u001b[39;00m\n\u001b[0;32m      2\u001b[0m num_bedrooms \u001b[38;5;241m=\u001b[39m \u001b[38;5;28mint\u001b[39m(\u001b[38;5;28minput\u001b[39m(\u001b[38;5;124m\"\u001b[39m\u001b[38;5;124mEnter the number of bedrooms: \u001b[39m\u001b[38;5;124m\"\u001b[39m)) \u001b[38;5;66;03m#complete this\u001b[39;00m\n\u001b[0;32m      4\u001b[0m \u001b[38;5;66;03m# Create a feature array for the input\u001b[39;00m\n",
      "File \u001b[1;32mC:\\ProgramData\\anaconda3\\Lib\\site-packages\\ipykernel\\kernelbase.py:1202\u001b[0m, in \u001b[0;36mKernel.raw_input\u001b[1;34m(self, prompt)\u001b[0m\n\u001b[0;32m   1200\u001b[0m     msg \u001b[38;5;241m=\u001b[39m \u001b[38;5;124m\"\u001b[39m\u001b[38;5;124mraw_input was called, but this frontend does not support input requests.\u001b[39m\u001b[38;5;124m\"\u001b[39m\n\u001b[0;32m   1201\u001b[0m     \u001b[38;5;28;01mraise\u001b[39;00m StdinNotImplementedError(msg)\n\u001b[1;32m-> 1202\u001b[0m \u001b[38;5;28;01mreturn\u001b[39;00m \u001b[38;5;28mself\u001b[39m\u001b[38;5;241m.\u001b[39m_input_request(\n\u001b[0;32m   1203\u001b[0m     \u001b[38;5;28mstr\u001b[39m(prompt),\n\u001b[0;32m   1204\u001b[0m     \u001b[38;5;28mself\u001b[39m\u001b[38;5;241m.\u001b[39m_parent_ident[\u001b[38;5;124m\"\u001b[39m\u001b[38;5;124mshell\u001b[39m\u001b[38;5;124m\"\u001b[39m],\n\u001b[0;32m   1205\u001b[0m     \u001b[38;5;28mself\u001b[39m\u001b[38;5;241m.\u001b[39mget_parent(\u001b[38;5;124m\"\u001b[39m\u001b[38;5;124mshell\u001b[39m\u001b[38;5;124m\"\u001b[39m),\n\u001b[0;32m   1206\u001b[0m     password\u001b[38;5;241m=\u001b[39m\u001b[38;5;28;01mFalse\u001b[39;00m,\n\u001b[0;32m   1207\u001b[0m )\n",
      "File \u001b[1;32mC:\\ProgramData\\anaconda3\\Lib\\site-packages\\ipykernel\\kernelbase.py:1245\u001b[0m, in \u001b[0;36mKernel._input_request\u001b[1;34m(self, prompt, ident, parent, password)\u001b[0m\n\u001b[0;32m   1242\u001b[0m \u001b[38;5;28;01mexcept\u001b[39;00m \u001b[38;5;167;01mKeyboardInterrupt\u001b[39;00m:\n\u001b[0;32m   1243\u001b[0m     \u001b[38;5;66;03m# re-raise KeyboardInterrupt, to truncate traceback\u001b[39;00m\n\u001b[0;32m   1244\u001b[0m     msg \u001b[38;5;241m=\u001b[39m \u001b[38;5;124m\"\u001b[39m\u001b[38;5;124mInterrupted by user\u001b[39m\u001b[38;5;124m\"\u001b[39m\n\u001b[1;32m-> 1245\u001b[0m     \u001b[38;5;28;01mraise\u001b[39;00m \u001b[38;5;167;01mKeyboardInterrupt\u001b[39;00m(msg) \u001b[38;5;28;01mfrom\u001b[39;00m \u001b[38;5;28;01mNone\u001b[39;00m\n\u001b[0;32m   1246\u001b[0m \u001b[38;5;28;01mexcept\u001b[39;00m \u001b[38;5;167;01mException\u001b[39;00m:\n\u001b[0;32m   1247\u001b[0m     \u001b[38;5;28mself\u001b[39m\u001b[38;5;241m.\u001b[39mlog\u001b[38;5;241m.\u001b[39mwarning(\u001b[38;5;124m\"\u001b[39m\u001b[38;5;124mInvalid Message:\u001b[39m\u001b[38;5;124m\"\u001b[39m, exc_info\u001b[38;5;241m=\u001b[39m\u001b[38;5;28;01mTrue\u001b[39;00m)\n",
      "\u001b[1;31mKeyboardInterrupt\u001b[0m: Interrupted by user"
     ]
    }
   ],
   "source": [
    "house_size = float(input(\"Enter the house size (square feet): \"))     #complete this\n",
    "num_bedrooms = int(input(\"Enter the number of bedrooms: \")) #complete this\n",
    "    \n",
    "# Create a feature array for the input\n",
    "input_features = np.array([[house_size, num_bedrooms]])\n",
    "print(input_features)\n",
    "\n",
    "# Predict the price using the trained model\n",
    "predicted_price = model.predict(input_features)[0]\n",
    "    \n",
    "# Display the predicted price\n",
    "print(f\"Predicted price for a house with size {house_size} sq ft and {num_bedrooms} bedrooms is (RM): {predicted_price:,.2f}\")"
   ]
  },
  {
   "cell_type": "markdown",
   "metadata": {
    "id": "NYeGeeAa_M13"
   },
   "source": [
    "# <font color=\"blue\"> Project 3: Spam Prediction"
   ]
  },
  {
   "cell_type": "markdown",
   "metadata": {
    "id": "7T-8Lyzg_M13"
   },
   "source": [
    "## Step 1: Prepare the data\n",
    "\n"
   ]
  },
  {
   "cell_type": "code",
   "execution_count": 20,
   "metadata": {
    "colab": {
     "base_uri": "https://localhost:8080/"
    },
    "executionInfo": {
     "elapsed": 924,
     "status": "ok",
     "timestamp": 1711418289679,
     "user": {
      "displayName": "CHING PANG GOH",
      "userId": "03150219032412111071"
     },
     "user_tz": -480
    },
    "id": "MoZh8Zqo_M13",
    "outputId": "ea5c6a7b-9ca0-4a39-c716-9d1a10481bf1"
   },
   "outputs": [
    {
     "name": "stdout",
     "output_type": "stream",
     "text": [
      "  label                                               text\n",
      "0   ham  Go until jurong point, crazy.. Available only ...\n",
      "1   ham                      Ok lar... Joking wif u oni...\n",
      "2  spam  Free entry in 2 a wkly comp to win FA Cup fina...\n",
      "3   ham  U dun say so early hor... U c already then say...\n",
      "4   ham  Nah I don't think he goes to usf, he lives aro...\n"
     ]
    },
    {
     "data": {
      "text/plain": [
       "5572"
      ]
     },
     "execution_count": 20,
     "metadata": {},
     "output_type": "execute_result"
    }
   ],
   "source": [
    "# make sure the data is labeled\n",
    "import pandas as pd\n",
    "data = pd.read_table('spam.txt',encoding='windows-1252', header=None)              #complete this\n",
    "data.columns = ['label', 'text']          #complete this\n",
    "print(data.head())\n",
    "len(data)"
   ]
  },
  {
   "cell_type": "code",
   "execution_count": 25,
   "metadata": {
    "colab": {
     "base_uri": "https://localhost:8080/"
    },
    "executionInfo": {
     "elapsed": 3,
     "status": "ok",
     "timestamp": 1711418299405,
     "user": {
      "displayName": "CHING PANG GOH",
      "userId": "03150219032412111071"
     },
     "user_tz": -480
    },
    "id": "BL7xpjnm_M13",
    "outputId": "ae7b5da7-2921-4cab-cbba-167d6feafd94"
   },
   "outputs": [
    {
     "name": "stdout",
     "output_type": "stream",
     "text": [
      "  label                                               text\n",
      "0   ham  go until jurong point  crazy   available only ...\n",
      "1   ham                      ok lar    joking wif u oni   \n",
      "2  spam  free entry in   a wkly comp to win fa cup fina...\n",
      "3   ham  u dun say so early hor    u c already then say   \n",
      "4   ham  nah i don t think he goes to usf  he lives aro...\n"
     ]
    }
   ],
   "source": [
    "# data preprocessing\n",
    "# remove words with numbers, punctuation and capital letters\n",
    "import re  #complete this\n",
    "import string  #complete this\n",
    "\n",
    "alphanumeric = lambda x:re.sub(r\"\"\"\\w*\\d\\w*\"\"\", ' ', x)        #complete this\n",
    "punc_lower = lambda x:re.sub('[%s]' % re.escape(string.punctuation), ' ', x.lower())      #complete this\n",
    "\n",
    "#============OR============================================\n",
    "data['text'] = data.text.map(alphanumeric).map(punc_lower) #complete this\n",
    "print(data.head())"
   ]
  },
  {
   "cell_type": "markdown",
   "metadata": {
    "id": "Vlec3iHj_M14"
   },
   "source": [
    "## Step 2: Split the data (into training and testing set)"
   ]
  },
  {
   "cell_type": "markdown",
   "metadata": {
    "id": "17gs2b4B_M14"
   },
   "source": [
    "<Font color=\"Blue\">__Input__: Features, Predictors, Independent Variables, X's\n",
    "<Font color=\"orange\">__Outputs__: Label, Outcome, Dependent Variable, Y\n",
    "    \n",
    "![](https://i163.photobucket.com/albums/t281/kyin_album/m2.png)"
   ]
  },
  {
   "cell_type": "code",
   "execution_count": 26,
   "metadata": {
    "executionInfo": {
     "elapsed": 346,
     "status": "ok",
     "timestamp": 1711418317733,
     "user": {
      "displayName": "CHING PANG GOH",
      "userId": "03150219032412111071"
     },
     "user_tz": -480
    },
    "id": "BnXJffXG_M14"
   },
   "outputs": [],
   "source": [
    "# split the data into feature and label\n",
    "X = data.text     #complete this\n",
    "y = data.label    #complete this"
   ]
  },
  {
   "cell_type": "code",
   "execution_count": 27,
   "metadata": {
    "id": "lCRkjjgO_M14"
   },
   "outputs": [
    {
     "data": {
      "text/plain": [
       "0    go until jurong point  crazy   available only ...\n",
       "1                        ok lar    joking wif u oni   \n",
       "2    free entry in   a wkly comp to win fa cup fina...\n",
       "3    u dun say so early hor    u c already then say   \n",
       "4    nah i don t think he goes to usf  he lives aro...\n",
       "Name: text, dtype: object"
      ]
     },
     "execution_count": 27,
     "metadata": {},
     "output_type": "execute_result"
    }
   ],
   "source": [
    "X.head()"
   ]
  },
  {
   "cell_type": "code",
   "execution_count": 28,
   "metadata": {
    "id": "dlwtMIGM_M15"
   },
   "outputs": [
    {
     "data": {
      "text/plain": [
       "0     ham\n",
       "1     ham\n",
       "2    spam\n",
       "3     ham\n",
       "4     ham\n",
       "Name: label, dtype: object"
      ]
     },
     "execution_count": 28,
     "metadata": {},
     "output_type": "execute_result"
    }
   ],
   "source": [
    "y.head()"
   ]
  },
  {
   "cell_type": "markdown",
   "metadata": {
    "id": "nf0fW6-Z_M15"
   },
   "source": [
    "## Overfitting\n",
    "\n",
    "![](https://i163.photobucket.com/albums/t281/kyin_album/m3.png)"
   ]
  },
  {
   "cell_type": "markdown",
   "metadata": {
    "id": "Z0kr3xpT_M15"
   },
   "source": [
    "![](https://i163.photobucket.com/albums/t281/kyin_album/m4.png)"
   ]
  },
  {
   "cell_type": "markdown",
   "metadata": {
    "id": "PojygMv-_M15"
   },
   "source": [
    "# Split the data [Code]"
   ]
  },
  {
   "cell_type": "code",
   "execution_count": 31,
   "metadata": {
    "executionInfo": {
     "elapsed": 879,
     "status": "ok",
     "timestamp": 1711418388449,
     "user": {
      "displayName": "CHING PANG GOH",
      "userId": "03150219032412111071"
     },
     "user_tz": -480
    },
    "id": "4fF3L8xn_M15"
   },
   "outputs": [],
   "source": [
    "# split the data into a training and test set\n",
    "from sklearn.model_selection import train_test_split           #complete this\n",
    "X_train, X_test, y_train, y_test = train_test_split(X, y, test_size=0.3, random_state=42)            #complete this\n",
    " \n",
    "# test size = 30% of observations, which means training size = 70% of observations\n",
    "# random state = 42, so we all get the same random train / test split"
   ]
  },
  {
   "cell_type": "code",
   "execution_count": 32,
   "metadata": {
    "id": "3D6j4b8__M16"
   },
   "outputs": [
    {
     "data": {
      "text/plain": [
       "708      quite late lar    ard   anyway i wun b drivin   \n",
       "4338                        on a tuesday night r u   real\n",
       "5029    go chase after her and run her over while she ...\n",
       "4921     g says you never answer your texts  confirm deny\n",
       "2592         still work going on  it is very small house \n",
       "Name: text, dtype: object"
      ]
     },
     "execution_count": 32,
     "metadata": {},
     "output_type": "execute_result"
    }
   ],
   "source": [
    "X_train.head()"
   ]
  },
  {
   "cell_type": "code",
   "execution_count": 33,
   "metadata": {
    "id": "sb9orvle_M16"
   },
   "outputs": [
    {
     "data": {
      "text/plain": [
       "(3900,)"
      ]
     },
     "execution_count": 33,
     "metadata": {},
     "output_type": "execute_result"
    }
   ],
   "source": [
    "X_train.shape"
   ]
  },
  {
   "cell_type": "code",
   "execution_count": 34,
   "metadata": {
    "id": "mbcwZ-8V_M16"
   },
   "outputs": [
    {
     "data": {
      "text/plain": [
       "708     ham\n",
       "4338    ham\n",
       "5029    ham\n",
       "4921    ham\n",
       "2592    ham\n",
       "Name: label, dtype: object"
      ]
     },
     "execution_count": 34,
     "metadata": {},
     "output_type": "execute_result"
    }
   ],
   "source": [
    "y_train.head()"
   ]
  },
  {
   "cell_type": "code",
   "execution_count": 35,
   "metadata": {
    "id": "CzoVCOcN_M16"
   },
   "outputs": [
    {
     "data": {
      "text/plain": [
       "(3900,)"
      ]
     },
     "execution_count": 35,
     "metadata": {},
     "output_type": "execute_result"
    }
   ],
   "source": [
    "y_train.shape"
   ]
  },
  {
   "cell_type": "code",
   "execution_count": 36,
   "metadata": {
    "id": "XUxZZ_K3_M2P"
   },
   "outputs": [
    {
     "data": {
      "text/plain": [
       "(1672,)"
      ]
     },
     "execution_count": 36,
     "metadata": {},
     "output_type": "execute_result"
    }
   ],
   "source": [
    "X_test.shape"
   ]
  },
  {
   "cell_type": "code",
   "execution_count": 37,
   "metadata": {
    "id": "lilnFM5u_M2Q"
   },
   "outputs": [
    {
     "data": {
      "text/plain": [
       "(1672,)"
      ]
     },
     "execution_count": 37,
     "metadata": {},
     "output_type": "execute_result"
    }
   ],
   "source": [
    "y_test.shape"
   ]
  },
  {
   "cell_type": "markdown",
   "metadata": {
    "id": "0GnESdi9_M2Q"
   },
   "source": [
    "## Step 3: Numerically encode the input data [Code]"
   ]
  },
  {
   "cell_type": "code",
   "execution_count": 38,
   "metadata": {
    "colab": {
     "base_uri": "https://localhost:8080/"
    },
    "executionInfo": {
     "elapsed": 906,
     "status": "ok",
     "timestamp": 1711418409733,
     "user": {
      "displayName": "CHING PANG GOH",
      "userId": "03150219032412111071"
     },
     "user_tz": -480
    },
    "id": "ILF9pyie_M2Q",
    "outputId": "60ddfea9-81d8-4b73-d169-b5ca13efd5a9"
   },
   "outputs": [
    {
     "name": "stdout",
     "output_type": "stream",
     "text": [
      "(3900, 6103)\n"
     ]
    }
   ],
   "source": [
    "from sklearn.feature_extraction.text import CountVectorizer  #computer cannot understand the text,                                         #complete this      \n",
    "cv = CountVectorizer(stop_words='english')                   #complete this\n",
    "X_train_cv = cv.fit_transform(X_train)                         #complete this\n",
    "X_test_cv = cv.transform(X_test)                          #complete this\n",
    "\n",
    "# print the dimensions of the training set (text messages, terms)\n",
    "print(X_train_cv.toarray().shape)"
   ]
  },
  {
   "cell_type": "code",
   "execution_count": 39,
   "metadata": {},
   "outputs": [
    {
     "data": {
      "text/plain": [
       "['countvectorizer.joblib']"
      ]
     },
     "execution_count": 39,
     "metadata": {},
     "output_type": "execute_result"
    }
   ],
   "source": [
    "import joblib\n",
    "joblib.dump(cv, 'countvectorizer.joblib')"
   ]
  },
  {
   "cell_type": "code",
   "execution_count": 40,
   "metadata": {
    "colab": {
     "base_uri": "https://localhost:8080/",
     "height": 423
    },
    "executionInfo": {
     "elapsed": 362,
     "status": "ok",
     "timestamp": 1711418412675,
     "user": {
      "displayName": "CHING PANG GOH",
      "userId": "03150219032412111071"
     },
     "user_tz": -480
    },
    "id": "uT9OC-fy_M2R",
    "outputId": "99a65a2c-a052-484f-f228-308b63cd3924"
   },
   "outputs": [
    {
     "data": {
      "text/html": [
       "<div>\n",
       "<style scoped>\n",
       "    .dataframe tbody tr th:only-of-type {\n",
       "        vertical-align: middle;\n",
       "    }\n",
       "\n",
       "    .dataframe tbody tr th {\n",
       "        vertical-align: top;\n",
       "    }\n",
       "\n",
       "    .dataframe thead th {\n",
       "        text-align: right;\n",
       "    }\n",
       "</style>\n",
       "<table border=\"1\" class=\"dataframe\">\n",
       "  <thead>\n",
       "    <tr style=\"text-align: right;\">\n",
       "      <th></th>\n",
       "      <th>0</th>\n",
       "      <th>1</th>\n",
       "      <th>2</th>\n",
       "      <th>3</th>\n",
       "      <th>4</th>\n",
       "      <th>5</th>\n",
       "      <th>6</th>\n",
       "      <th>7</th>\n",
       "      <th>8</th>\n",
       "      <th>9</th>\n",
       "      <th>...</th>\n",
       "      <th>6093</th>\n",
       "      <th>6094</th>\n",
       "      <th>6095</th>\n",
       "      <th>6096</th>\n",
       "      <th>6097</th>\n",
       "      <th>6098</th>\n",
       "      <th>6099</th>\n",
       "      <th>6100</th>\n",
       "      <th>6101</th>\n",
       "      <th>6102</th>\n",
       "    </tr>\n",
       "  </thead>\n",
       "  <tbody>\n",
       "    <tr>\n",
       "      <th>0</th>\n",
       "      <td>0</td>\n",
       "      <td>0</td>\n",
       "      <td>0</td>\n",
       "      <td>0</td>\n",
       "      <td>0</td>\n",
       "      <td>0</td>\n",
       "      <td>0</td>\n",
       "      <td>0</td>\n",
       "      <td>0</td>\n",
       "      <td>0</td>\n",
       "      <td>...</td>\n",
       "      <td>0</td>\n",
       "      <td>0</td>\n",
       "      <td>0</td>\n",
       "      <td>0</td>\n",
       "      <td>0</td>\n",
       "      <td>0</td>\n",
       "      <td>0</td>\n",
       "      <td>0</td>\n",
       "      <td>0</td>\n",
       "      <td>0</td>\n",
       "    </tr>\n",
       "    <tr>\n",
       "      <th>1</th>\n",
       "      <td>0</td>\n",
       "      <td>0</td>\n",
       "      <td>0</td>\n",
       "      <td>0</td>\n",
       "      <td>0</td>\n",
       "      <td>0</td>\n",
       "      <td>0</td>\n",
       "      <td>0</td>\n",
       "      <td>0</td>\n",
       "      <td>0</td>\n",
       "      <td>...</td>\n",
       "      <td>0</td>\n",
       "      <td>0</td>\n",
       "      <td>0</td>\n",
       "      <td>0</td>\n",
       "      <td>0</td>\n",
       "      <td>0</td>\n",
       "      <td>0</td>\n",
       "      <td>0</td>\n",
       "      <td>0</td>\n",
       "      <td>0</td>\n",
       "    </tr>\n",
       "    <tr>\n",
       "      <th>2</th>\n",
       "      <td>0</td>\n",
       "      <td>0</td>\n",
       "      <td>0</td>\n",
       "      <td>0</td>\n",
       "      <td>0</td>\n",
       "      <td>0</td>\n",
       "      <td>0</td>\n",
       "      <td>0</td>\n",
       "      <td>0</td>\n",
       "      <td>0</td>\n",
       "      <td>...</td>\n",
       "      <td>0</td>\n",
       "      <td>0</td>\n",
       "      <td>0</td>\n",
       "      <td>0</td>\n",
       "      <td>0</td>\n",
       "      <td>0</td>\n",
       "      <td>0</td>\n",
       "      <td>0</td>\n",
       "      <td>0</td>\n",
       "      <td>0</td>\n",
       "    </tr>\n",
       "    <tr>\n",
       "      <th>3</th>\n",
       "      <td>0</td>\n",
       "      <td>0</td>\n",
       "      <td>0</td>\n",
       "      <td>0</td>\n",
       "      <td>0</td>\n",
       "      <td>0</td>\n",
       "      <td>0</td>\n",
       "      <td>0</td>\n",
       "      <td>0</td>\n",
       "      <td>0</td>\n",
       "      <td>...</td>\n",
       "      <td>0</td>\n",
       "      <td>0</td>\n",
       "      <td>0</td>\n",
       "      <td>0</td>\n",
       "      <td>0</td>\n",
       "      <td>0</td>\n",
       "      <td>0</td>\n",
       "      <td>0</td>\n",
       "      <td>0</td>\n",
       "      <td>0</td>\n",
       "    </tr>\n",
       "    <tr>\n",
       "      <th>4</th>\n",
       "      <td>0</td>\n",
       "      <td>0</td>\n",
       "      <td>0</td>\n",
       "      <td>0</td>\n",
       "      <td>0</td>\n",
       "      <td>0</td>\n",
       "      <td>0</td>\n",
       "      <td>0</td>\n",
       "      <td>0</td>\n",
       "      <td>0</td>\n",
       "      <td>...</td>\n",
       "      <td>0</td>\n",
       "      <td>0</td>\n",
       "      <td>0</td>\n",
       "      <td>0</td>\n",
       "      <td>0</td>\n",
       "      <td>0</td>\n",
       "      <td>0</td>\n",
       "      <td>0</td>\n",
       "      <td>0</td>\n",
       "      <td>0</td>\n",
       "    </tr>\n",
       "    <tr>\n",
       "      <th>...</th>\n",
       "      <td>...</td>\n",
       "      <td>...</td>\n",
       "      <td>...</td>\n",
       "      <td>...</td>\n",
       "      <td>...</td>\n",
       "      <td>...</td>\n",
       "      <td>...</td>\n",
       "      <td>...</td>\n",
       "      <td>...</td>\n",
       "      <td>...</td>\n",
       "      <td>...</td>\n",
       "      <td>...</td>\n",
       "      <td>...</td>\n",
       "      <td>...</td>\n",
       "      <td>...</td>\n",
       "      <td>...</td>\n",
       "      <td>...</td>\n",
       "      <td>...</td>\n",
       "      <td>...</td>\n",
       "      <td>...</td>\n",
       "      <td>...</td>\n",
       "    </tr>\n",
       "    <tr>\n",
       "      <th>1667</th>\n",
       "      <td>0</td>\n",
       "      <td>0</td>\n",
       "      <td>0</td>\n",
       "      <td>0</td>\n",
       "      <td>0</td>\n",
       "      <td>0</td>\n",
       "      <td>0</td>\n",
       "      <td>0</td>\n",
       "      <td>0</td>\n",
       "      <td>0</td>\n",
       "      <td>...</td>\n",
       "      <td>0</td>\n",
       "      <td>0</td>\n",
       "      <td>0</td>\n",
       "      <td>0</td>\n",
       "      <td>0</td>\n",
       "      <td>0</td>\n",
       "      <td>0</td>\n",
       "      <td>0</td>\n",
       "      <td>0</td>\n",
       "      <td>0</td>\n",
       "    </tr>\n",
       "    <tr>\n",
       "      <th>1668</th>\n",
       "      <td>0</td>\n",
       "      <td>0</td>\n",
       "      <td>0</td>\n",
       "      <td>0</td>\n",
       "      <td>0</td>\n",
       "      <td>0</td>\n",
       "      <td>0</td>\n",
       "      <td>0</td>\n",
       "      <td>0</td>\n",
       "      <td>0</td>\n",
       "      <td>...</td>\n",
       "      <td>0</td>\n",
       "      <td>0</td>\n",
       "      <td>0</td>\n",
       "      <td>0</td>\n",
       "      <td>0</td>\n",
       "      <td>0</td>\n",
       "      <td>0</td>\n",
       "      <td>0</td>\n",
       "      <td>0</td>\n",
       "      <td>0</td>\n",
       "    </tr>\n",
       "    <tr>\n",
       "      <th>1669</th>\n",
       "      <td>0</td>\n",
       "      <td>0</td>\n",
       "      <td>0</td>\n",
       "      <td>0</td>\n",
       "      <td>0</td>\n",
       "      <td>0</td>\n",
       "      <td>0</td>\n",
       "      <td>0</td>\n",
       "      <td>0</td>\n",
       "      <td>0</td>\n",
       "      <td>...</td>\n",
       "      <td>0</td>\n",
       "      <td>0</td>\n",
       "      <td>0</td>\n",
       "      <td>0</td>\n",
       "      <td>0</td>\n",
       "      <td>0</td>\n",
       "      <td>0</td>\n",
       "      <td>0</td>\n",
       "      <td>0</td>\n",
       "      <td>0</td>\n",
       "    </tr>\n",
       "    <tr>\n",
       "      <th>1670</th>\n",
       "      <td>0</td>\n",
       "      <td>0</td>\n",
       "      <td>0</td>\n",
       "      <td>0</td>\n",
       "      <td>0</td>\n",
       "      <td>0</td>\n",
       "      <td>0</td>\n",
       "      <td>0</td>\n",
       "      <td>0</td>\n",
       "      <td>0</td>\n",
       "      <td>...</td>\n",
       "      <td>0</td>\n",
       "      <td>0</td>\n",
       "      <td>0</td>\n",
       "      <td>0</td>\n",
       "      <td>0</td>\n",
       "      <td>0</td>\n",
       "      <td>0</td>\n",
       "      <td>0</td>\n",
       "      <td>0</td>\n",
       "      <td>0</td>\n",
       "    </tr>\n",
       "    <tr>\n",
       "      <th>1671</th>\n",
       "      <td>0</td>\n",
       "      <td>0</td>\n",
       "      <td>0</td>\n",
       "      <td>0</td>\n",
       "      <td>0</td>\n",
       "      <td>0</td>\n",
       "      <td>0</td>\n",
       "      <td>0</td>\n",
       "      <td>0</td>\n",
       "      <td>0</td>\n",
       "      <td>...</td>\n",
       "      <td>0</td>\n",
       "      <td>0</td>\n",
       "      <td>0</td>\n",
       "      <td>0</td>\n",
       "      <td>0</td>\n",
       "      <td>0</td>\n",
       "      <td>0</td>\n",
       "      <td>0</td>\n",
       "      <td>0</td>\n",
       "      <td>0</td>\n",
       "    </tr>\n",
       "  </tbody>\n",
       "</table>\n",
       "<p>1672 rows × 6103 columns</p>\n",
       "</div>"
      ],
      "text/plain": [
       "      0     1     2     3     4     5     6     7     8     9     ...  6093  \\\n",
       "0        0     0     0     0     0     0     0     0     0     0  ...     0   \n",
       "1        0     0     0     0     0     0     0     0     0     0  ...     0   \n",
       "2        0     0     0     0     0     0     0     0     0     0  ...     0   \n",
       "3        0     0     0     0     0     0     0     0     0     0  ...     0   \n",
       "4        0     0     0     0     0     0     0     0     0     0  ...     0   \n",
       "...    ...   ...   ...   ...   ...   ...   ...   ...   ...   ...  ...   ...   \n",
       "1667     0     0     0     0     0     0     0     0     0     0  ...     0   \n",
       "1668     0     0     0     0     0     0     0     0     0     0  ...     0   \n",
       "1669     0     0     0     0     0     0     0     0     0     0  ...     0   \n",
       "1670     0     0     0     0     0     0     0     0     0     0  ...     0   \n",
       "1671     0     0     0     0     0     0     0     0     0     0  ...     0   \n",
       "\n",
       "      6094  6095  6096  6097  6098  6099  6100  6101  6102  \n",
       "0        0     0     0     0     0     0     0     0     0  \n",
       "1        0     0     0     0     0     0     0     0     0  \n",
       "2        0     0     0     0     0     0     0     0     0  \n",
       "3        0     0     0     0     0     0     0     0     0  \n",
       "4        0     0     0     0     0     0     0     0     0  \n",
       "...    ...   ...   ...   ...   ...   ...   ...   ...   ...  \n",
       "1667     0     0     0     0     0     0     0     0     0  \n",
       "1668     0     0     0     0     0     0     0     0     0  \n",
       "1669     0     0     0     0     0     0     0     0     0  \n",
       "1670     0     0     0     0     0     0     0     0     0  \n",
       "1671     0     0     0     0     0     0     0     0     0  \n",
       "\n",
       "[1672 rows x 6103 columns]"
      ]
     },
     "execution_count": 40,
     "metadata": {},
     "output_type": "execute_result"
    }
   ],
   "source": [
    "type(X_train_cv)\n",
    "import scipy.sparse\n",
    "pd.DataFrame.sparse.from_spmatrix(X_test_cv)"
   ]
  },
  {
   "cell_type": "code",
   "execution_count": 41,
   "metadata": {
    "id": "F-g-pB0L_M2R"
   },
   "outputs": [
    {
     "name": "stdout",
     "output_type": "stream",
     "text": [
      "Help on method fit_transform in module sklearn.feature_extraction.text:\n",
      "\n",
      "fit_transform(raw_documents, y=None) method of sklearn.feature_extraction.text.CountVectorizer instance\n",
      "    Learn the vocabulary dictionary and return document-term matrix.\n",
      "    \n",
      "    This is equivalent to fit followed by transform, but more efficiently\n",
      "    implemented.\n",
      "    \n",
      "    Parameters\n",
      "    ----------\n",
      "    raw_documents : iterable\n",
      "        An iterable which generates either str, unicode or file objects.\n",
      "    \n",
      "    y : None\n",
      "        This parameter is ignored.\n",
      "    \n",
      "    Returns\n",
      "    -------\n",
      "    X : array of shape (n_samples, n_features)\n",
      "        Document-term matrix.\n",
      "\n"
     ]
    }
   ],
   "source": [
    "help(cv.fit_transform)"
   ]
  },
  {
   "cell_type": "markdown",
   "metadata": {
    "id": "KS3Im8c0_M2R"
   },
   "source": [
    "## Step 4: Fit model and predict outcomes [Code]"
   ]
  },
  {
   "cell_type": "code",
   "execution_count": 42,
   "metadata": {
    "colab": {
     "base_uri": "https://localhost:8080/"
    },
    "executionInfo": {
     "elapsed": 473,
     "status": "ok",
     "timestamp": 1711418436019,
     "user": {
      "displayName": "CHING PANG GOH",
      "userId": "03150219032412111071"
     },
     "user_tz": -480
    },
    "id": "ekdoA8rf_M2R",
    "outputId": "9cb433b7-44dc-4070-f7b0-008f74943c76"
   },
   "outputs": [
    {
     "data": {
      "text/plain": [
       "array(['ham', 'ham', 'ham', ..., 'ham', 'spam', 'ham'], dtype=object)"
      ]
     },
     "execution_count": 42,
     "metadata": {},
     "output_type": "execute_result"
    }
   ],
   "source": [
    "# Use a logistic regression model (categorical)\n",
    "from sklearn.linear_model import LogisticRegression    #complete this\n",
    "lr = LogisticRegression()                               #complete this\n",
    "\n",
    "# Train the model\n",
    "lr.fit(X_train_cv, y_train)                            #complete this\n",
    "\n",
    "# Take the model that was trained on the X_train_cv data and apply it to the X_test_cv\n",
    "y_pred_cv = lr.predict(X_test_cv)                 #complete this\n",
    "y_pred_cv  # the output is all of the predictions/labels"
   ]
  },
  {
   "cell_type": "code",
   "execution_count": 43,
   "metadata": {},
   "outputs": [
    {
     "data": {
      "text/plain": [
       "['logistic_regression_model.joblib']"
      ]
     },
     "execution_count": 43,
     "metadata": {},
     "output_type": "execute_result"
    }
   ],
   "source": [
    "joblib.dump(lr, 'logistic_regression_model.joblib')"
   ]
  },
  {
   "cell_type": "markdown",
   "metadata": {
    "id": "DCHg9Bdm_M2S"
   },
   "source": [
    "## Step 5: Evaluate the model"
   ]
  },
  {
   "cell_type": "markdown",
   "metadata": {
    "id": "uPds_0Yc_M2S"
   },
   "source": [
    "![](https://i163.photobucket.com/albums/t281/kyin_album/m5.png)"
   ]
  },
  {
   "cell_type": "markdown",
   "metadata": {
    "id": "hir46DGX_M2S"
   },
   "source": [
    "# Step 5: Evaluate the model [Code]"
   ]
  },
  {
   "cell_type": "code",
   "execution_count": 44,
   "metadata": {
    "colab": {
     "base_uri": "https://localhost:8080/",
     "height": 499
    },
    "executionInfo": {
     "elapsed": 1016,
     "status": "ok",
     "timestamp": 1711418444562,
     "user": {
      "displayName": "CHING PANG GOH",
      "userId": "03150219032412111071"
     },
     "user_tz": -480
    },
    "id": "c3KZwwpH_M2S",
    "outputId": "1042d672-29ec-4398-86bc-f3bfca73665c"
   },
   "outputs": [
    {
     "name": "stdout",
     "output_type": "stream",
     "text": [
      "[1448    0]\n",
      "[ 25 199]\n",
      "Accuracy: 0.985\n",
      "Precision: 1.0\n",
      "Recall: 0.888\n",
      "F1 Score: 0.941\n"
     ]
    },
    {
     "data": {
      "image/png": "[encoded data removed]",
      "text/plain": [
       "<Figure size 640x480 with 2 Axes>"
      ]
     },
     "metadata": {},
     "output_type": "display_data"
    }
   ],
   "source": [
    "from sklearn.metrics import confusion_matrix  #complete this\n",
    "import seaborn as sns\n",
    "import matplotlib.pyplot as plt\n",
    "%matplotlib inline\n",
    "\n",
    "#Provided you are running IPython, the %matplotlib inline will make your plot outputs appear and be stored within the notebook\n",
    "cm = confusion_matrix(y_test, y_pred_cv)   #y_test is the label of testing data, y_pred_cv is the predicted ans from the ML with testing set\n",
    "print(cm[0])\n",
    "print(cm[1])\n",
    "sns.heatmap(cm, xticklabels=['predicted_ham', 'predicted_spam'], yticklabels=['actual_ham', 'actual_spam'], annot=True, fmt='d', annot_kws={'fontsize':20}, cmap=\"YlGnBu\");\n",
    "true_neg, false_pos = cm[0]\n",
    "false_neg, true_pos = cm[1]\n",
    "\n",
    "accuracy = round((true_pos + true_neg) / (true_pos + true_neg + false_pos + false_neg),3)\n",
    "precision = round((true_pos) / (true_pos + false_pos),3)\n",
    "recall = round((true_pos) / (true_pos + false_neg),3)\n",
    "f1 = round(2 * (precision * recall) / (precision + recall),3)\n",
    "print('Accuracy: {}'.format(accuracy))\n",
    "print('Precision: {}'.format(precision))\n",
    "print('Recall: {}'.format(recall))\n",
    "print('F1 Score: {}'.format(f1))"
   ]
  },
  {
   "cell_type": "markdown",
   "metadata": {
    "id": "muhACP9j_M2S"
   },
   "source": [
    "## Step 6: Predict new input [Code]"
   ]
  },
  {
   "cell_type": "code",
   "execution_count": 46,
   "metadata": {
    "colab": {
     "base_uri": "https://localhost:8080/"
    },
    "executionInfo": {
     "elapsed": 375,
     "status": "ok",
     "timestamp": 1711418879974,
     "user": {
      "displayName": "CHING PANG GOH",
      "userId": "03150219032412111071"
     },
     "user_tz": -480
    },
    "id": "eyI1BQfT_M2S",
    "outputId": "7f998fd8-eb59-41e3-e3b6-1717fecfc3ef"
   },
   "outputs": [
    {
     "name": "stdout",
     "output_type": "stream",
     "text": [
      "['ham']\n"
     ]
    }
   ],
   "source": [
    "import pandas as pd\n",
    "from pandas import DataFrame                    #complete this\n",
    "Sentence1 = [\"Welcome to TARUMT\"]\n",
    "\n",
    "Snew = cv.transform(Sentence1)                      #complete this\n",
    "result = lr.predict(Snew)                       #complete this  \n",
    "\n",
    "print(result)"
   ]
  },
  {
   "cell_type": "markdown",
   "metadata": {
    "id": "IBrwdu73_M2T"
   },
   "source": [
    "# <font color=\"blue\"> __Naive Bayes__"
   ]
  },
  {
   "cell_type": "markdown",
   "metadata": {
    "id": "zQQD4dNg_M2T"
   },
   "source": [
    "# Naive Bayes [code]"
   ]
  },
  {
   "cell_type": "code",
   "execution_count": 48,
   "metadata": {
    "id": "9VEvQxB8_M2T"
   },
   "outputs": [
    {
     "data": {
      "text/plain": [
       "array(['ham', 'ham', 'ham', ..., 'ham', 'spam', 'ham'], dtype='<U4')"
      ]
     },
     "execution_count": 48,
     "metadata": {},
     "output_type": "execute_result"
    }
   ],
   "source": [
    "# Use a Naive Bayes model\n",
    "from sklearn.naive_bayes import MultinomialNB        #complete this\n",
    "import numpy as np\n",
    "nb = MultinomialNB()\n",
    "\n",
    "# Train the model \n",
    "nb.fit(X_train_cv, y_train)                           #complete this\n",
    "\n",
    "# Take the model that was trained on the X_train_cv data and apply it to the X_test_cv\n",
    "y_pred_cv_nb = nb.predict(X_test_cv)\n",
    "y_pred_cv_nb #the output is all of the predictions\n",
    "\n"
   ]
  },
  {
   "cell_type": "markdown",
   "metadata": {
    "id": "UfxP9z8f_M2T"
   },
   "source": [
    "# Naive Bayes: Results"
   ]
  },
  {
   "cell_type": "code",
   "execution_count": 49,
   "metadata": {
    "id": "cXAXX1Yu_M2T"
   },
   "outputs": [
    {
     "name": "stdout",
     "output_type": "stream",
     "text": [
      "Accuracy: 0.986\n",
      "Precision: 0.943\n",
      "Recall: 0.955\n",
      "F1 Score: 0.949\n"
     ]
    },
    {
     "data": {
      "image/png": "[encoded data removed]",
      "text/plain": [
       "<Figure size 640x480 with 2 Axes>"
      ]
     },
     "metadata": {},
     "output_type": "display_data"
    }
   ],
   "source": [
    "cm = confusion_matrix(y_test, y_pred_cv_nb)\n",
    "sns.heatmap(cm, xticklabels=['predicted_ham', 'predicted_spam'], yticklabels=['actual_ham', 'actual_spam'],\n",
    "annot=True, fmt='d', annot_kws={'fontsize':20}, cmap=\"YlGnBu\");\n",
    "true_neg, false_pos = cm[0]\n",
    "false_neg, true_pos = cm[1]\n",
    "accuracy = round((true_pos + true_neg) / (true_pos + true_neg + false_pos + false_neg),3)\n",
    "precision = round((true_pos) / (true_pos + false_pos),3)\n",
    "recall = round((true_pos) / (true_pos + false_neg),3)\n",
    "f1 = round(2 * (precision * recall) / (precision + recall),3)\n",
    "print('Accuracy: {}'.format(accuracy))\n",
    "print('Precision: {}'.format(precision))\n",
    "print('Recall: {}'.format(recall))\n",
    "print('F1 Score: {}'.format(f1))\n",
    "\n",
    "NBscore = nb.score(X_test_cv, y_test)"
   ]
  },
  {
   "cell_type": "markdown",
   "metadata": {
    "id": "MjZKpaYB_M2U"
   },
   "source": [
    "# <font color=\"blue\"> Project 4: Review Rating Prediction"
   ]
  },
  {
   "cell_type": "code",
   "execution_count": 50,
   "metadata": {
    "id": "OE_TXd4P_M2U"
   },
   "outputs": [],
   "source": [
    "import nltk\n",
    "import pandas as pd"
   ]
  },
  {
   "cell_type": "code",
   "execution_count": 52,
   "metadata": {
    "id": "EIpt2oBc_M2U"
   },
   "outputs": [
    {
     "data": {
      "text/html": [
       "<div>\n",
       "<style scoped>\n",
       "    .dataframe tbody tr th:only-of-type {\n",
       "        vertical-align: middle;\n",
       "    }\n",
       "\n",
       "    .dataframe tbody tr th {\n",
       "        vertical-align: top;\n",
       "    }\n",
       "\n",
       "    .dataframe thead th {\n",
       "        text-align: right;\n",
       "    }\n",
       "</style>\n",
       "<table border=\"1\" class=\"dataframe\">\n",
       "  <thead>\n",
       "    <tr style=\"text-align: right;\">\n",
       "      <th></th>\n",
       "      <th>user_id</th>\n",
       "      <th>stars</th>\n",
       "      <th>reviews</th>\n",
       "    </tr>\n",
       "  </thead>\n",
       "  <tbody>\n",
       "    <tr>\n",
       "      <th>0</th>\n",
       "      <td>A2XP9IN4JOMROD</td>\n",
       "      <td>1</td>\n",
       "      <td>I wanted to love this. I was even prepared for...</td>\n",
       "    </tr>\n",
       "    <tr>\n",
       "      <th>1</th>\n",
       "      <td>A2TS09JCXNV1VD</td>\n",
       "      <td>5</td>\n",
       "      <td>Grove Square Cappuccino Cups were excellent. T...</td>\n",
       "    </tr>\n",
       "    <tr>\n",
       "      <th>2</th>\n",
       "      <td>AJ3L5J7GN09SV</td>\n",
       "      <td>2</td>\n",
       "      <td>I bought the Grove Square hazelnut cappuccino ...</td>\n",
       "    </tr>\n",
       "    <tr>\n",
       "      <th>3</th>\n",
       "      <td>A3CZD34ZTUJME7</td>\n",
       "      <td>1</td>\n",
       "      <td>I love my Keurig, and I love most of the Keuri...</td>\n",
       "    </tr>\n",
       "    <tr>\n",
       "      <th>4</th>\n",
       "      <td>AWKN396SHAQGP</td>\n",
       "      <td>1</td>\n",
       "      <td>It's a powdered drink. No filter in k-cup.&lt;br ...</td>\n",
       "    </tr>\n",
       "  </tbody>\n",
       "</table>\n",
       "</div>"
      ],
      "text/plain": [
       "          user_id  stars                                            reviews\n",
       "0  A2XP9IN4JOMROD      1  I wanted to love this. I was even prepared for...\n",
       "1  A2TS09JCXNV1VD      5  Grove Square Cappuccino Cups were excellent. T...\n",
       "2   AJ3L5J7GN09SV      2  I bought the Grove Square hazelnut cappuccino ...\n",
       "3  A3CZD34ZTUJME7      1  I love my Keurig, and I love most of the Keuri...\n",
       "4   AWKN396SHAQGP      1  It's a powdered drink. No filter in k-cup.<br ..."
      ]
     },
     "execution_count": 52,
     "metadata": {},
     "output_type": "execute_result"
    }
   ],
   "source": [
    "data = pd.read_csv('coffee.csv')\n",
    "data.head()"
   ]
  },
  {
   "cell_type": "markdown",
   "metadata": {
    "id": "VngrUEeE_M2U"
   },
   "source": [
    "# Question 1\n",
    "\n",
    "- Determine how many reviews there are in total.\n",
    "\n",
    "\n",
    "Use the preprocessing code below to clean the reviews data before moving on to modeling.\n"
   ]
  },
  {
   "cell_type": "code",
   "execution_count": 55,
   "metadata": {
    "id": "J4rA-xhA_M2V"
   },
   "outputs": [
    {
     "data": {
      "text/html": [
       "<div>\n",
       "<style scoped>\n",
       "    .dataframe tbody tr th:only-of-type {\n",
       "        vertical-align: middle;\n",
       "    }\n",
       "\n",
       "    .dataframe tbody tr th {\n",
       "        vertical-align: top;\n",
       "    }\n",
       "\n",
       "    .dataframe thead th {\n",
       "        text-align: right;\n",
       "    }\n",
       "</style>\n",
       "<table border=\"1\" class=\"dataframe\">\n",
       "  <thead>\n",
       "    <tr style=\"text-align: right;\">\n",
       "      <th></th>\n",
       "      <th>user_id</th>\n",
       "      <th>stars</th>\n",
       "      <th>reviews</th>\n",
       "    </tr>\n",
       "  </thead>\n",
       "  <tbody>\n",
       "    <tr>\n",
       "      <th>0</th>\n",
       "      <td>A2XP9IN4JOMROD</td>\n",
       "      <td>1</td>\n",
       "      <td>i wanted to love this  i was even prepared for...</td>\n",
       "    </tr>\n",
       "    <tr>\n",
       "      <th>1</th>\n",
       "      <td>A2TS09JCXNV1VD</td>\n",
       "      <td>5</td>\n",
       "      <td>grove square cappuccino cups were excellent  t...</td>\n",
       "    </tr>\n",
       "    <tr>\n",
       "      <th>2</th>\n",
       "      <td>AJ3L5J7GN09SV</td>\n",
       "      <td>2</td>\n",
       "      <td>i bought the grove square hazelnut cappuccino ...</td>\n",
       "    </tr>\n",
       "    <tr>\n",
       "      <th>3</th>\n",
       "      <td>A3CZD34ZTUJME7</td>\n",
       "      <td>1</td>\n",
       "      <td>i love my keurig  and i love most of the keuri...</td>\n",
       "    </tr>\n",
       "    <tr>\n",
       "      <th>4</th>\n",
       "      <td>AWKN396SHAQGP</td>\n",
       "      <td>1</td>\n",
       "      <td>it s a powdered drink  no filter in k cup  br ...</td>\n",
       "    </tr>\n",
       "  </tbody>\n",
       "</table>\n",
       "</div>"
      ],
      "text/plain": [
       "          user_id  stars                                            reviews\n",
       "0  A2XP9IN4JOMROD      1  i wanted to love this  i was even prepared for...\n",
       "1  A2TS09JCXNV1VD      5  grove square cappuccino cups were excellent  t...\n",
       "2   AJ3L5J7GN09SV      2  i bought the grove square hazelnut cappuccino ...\n",
       "3  A3CZD34ZTUJME7      1  i love my keurig  and i love most of the keuri...\n",
       "4   AWKN396SHAQGP      1  it s a powdered drink  no filter in k cup  br ..."
      ]
     },
     "execution_count": 55,
     "metadata": {},
     "output_type": "execute_result"
    }
   ],
   "source": [
    "# Text preprocessing steps - remove numbers, captial letters and punctuation\n",
    "import re\n",
    "import string\n",
    "\n",
    "alphanumeric = lambda x: re.sub(r\"\"\"\\w*\\d\\w*\"\"\", ' ', x)         #complete this\n",
    "punc_lower = lambda x: re.sub('[%s]' % re.escape(string.punctuation), ' ', x.lower())           #complete this\n",
    "\n",
    "data['reviews'] = data.reviews.map(alphanumeric).map(punc_lower)\n",
    "data.head()"
   ]
  },
  {
   "cell_type": "code",
   "execution_count": 56,
   "metadata": {
    "id": "hXewp_k2_M2V"
   },
   "outputs": [
    {
     "data": {
      "text/plain": [
       "pandas.core.frame.DataFrame"
      ]
     },
     "execution_count": 56,
     "metadata": {},
     "output_type": "execute_result"
    }
   ],
   "source": [
    "type(data)"
   ]
  },
  {
   "cell_type": "markdown",
   "metadata": {
    "id": "1zJ7gQiN_M2V"
   },
   "source": [
    "# Question 2: Classsification *(20% testing, 80% training)*\n",
    "\n",
    "Processes for classification"
   ]
  },
  {
   "cell_type": "markdown",
   "metadata": {
    "id": "6DzMCwA6_M2V"
   },
   "source": [
    "### <font color=\"Blue\">Step 1:</font> Prepare the data (identify the feature and label)"
   ]
  },
  {
   "cell_type": "code",
   "execution_count": 57,
   "metadata": {
    "id": "4QmNMBni_M2V"
   },
   "outputs": [
    {
     "data": {
      "text/plain": [
       "0    i wanted to love this  i was even prepared for...\n",
       "1    grove square cappuccino cups were excellent  t...\n",
       "2    i bought the grove square hazelnut cappuccino ...\n",
       "3    i love my keurig  and i love most of the keuri...\n",
       "4    it s a powdered drink  no filter in k cup  br ...\n",
       "Name: reviews, dtype: object"
      ]
     },
     "execution_count": 57,
     "metadata": {},
     "output_type": "execute_result"
    }
   ],
   "source": [
    "# split the data into feature and label\n",
    "X = data.reviews                  #complete this\n",
    "y = data.stars                  #complete this\n",
    "\n",
    "X.head()"
   ]
  },
  {
   "cell_type": "markdown",
   "metadata": {
    "id": "PKAs3CwM_M2W"
   },
   "source": [
    "### <font color=\"Blue\">Step 2:</font> Split the data into training and testing sets"
   ]
  },
  {
   "cell_type": "code",
   "execution_count": 58,
   "metadata": {
    "id": "WWwVTj6h_M2W"
   },
   "outputs": [],
   "source": [
    "# split the data into a training and test set\n",
    "from sklearn.model_selection import train_test_split                   #complete this\n",
    "X_train, X_test, y_train, y_test = train_test_split(X, y, test_size=0.2, random_state=42)                      #complete this"
   ]
  },
  {
   "cell_type": "code",
   "execution_count": 59,
   "metadata": {
    "id": "O9dCTtWg_M2W"
   },
   "outputs": [
    {
     "data": {
      "text/plain": [
       "360    the cappuchino is very sweet  i would recommen...\n",
       "73     this is a product that we will use again as it...\n",
       "353    absolutely delicious     creamy   not too swee...\n",
       "86     if you think nothing beats a great cup of cofe...\n",
       "237    there s only one word to describe this        ...\n",
       "Name: reviews, dtype: object"
      ]
     },
     "execution_count": 59,
     "metadata": {},
     "output_type": "execute_result"
    }
   ],
   "source": [
    "X_test.head()"
   ]
  },
  {
   "cell_type": "code",
   "execution_count": 60,
   "metadata": {
    "id": "vBkN1yoN_M2W"
   },
   "outputs": [
    {
     "data": {
      "text/plain": [
       "360    4\n",
       "73     4\n",
       "353    5\n",
       "86     5\n",
       "237    5\n",
       "Name: stars, dtype: int64"
      ]
     },
     "execution_count": 60,
     "metadata": {},
     "output_type": "execute_result"
    }
   ],
   "source": [
    "y_test.head()"
   ]
  },
  {
   "cell_type": "markdown",
   "metadata": {
    "id": "OvxHPOF4_M2W"
   },
   "source": [
    "### <font color=\"Blue\">Step 3:</font> Vectorize the feature"
   ]
  },
  {
   "cell_type": "code",
   "execution_count": 62,
   "metadata": {
    "id": "xXd0Li3o_M2X"
   },
   "outputs": [
    {
     "name": "stdout",
     "output_type": "stream",
     "text": [
      "(433, 1822)\n"
     ]
    }
   ],
   "source": [
    "from sklearn.feature_extraction.text import CountVectorizer             #complete this\n",
    "cv = CountVectorizer(stop_words='english')                       #complete this\n",
    "X_train_cv = cv.fit_transform(X_train)                                                #complete this\n",
    "X_test_cv = cv.transform(X_test)                                               #complete this\n",
    "\n",
    "# print the dimensions of the training set (text messages, terms)\n",
    "print(X_train_cv.toarray().shape)"
   ]
  },
  {
   "cell_type": "markdown",
   "metadata": {
    "id": "TFAhXYDS_M2X"
   },
   "source": [
    "### <font color=\"Blue\">Step 4:</font> Idenfity the model/ classifier to be used. Feed the train data into the model"
   ]
  },
  {
   "cell_type": "markdown",
   "metadata": {
    "id": "C0wGpeSV_M2X"
   },
   "source": [
    "### - Linear Regression"
   ]
  },
  {
   "cell_type": "code",
   "execution_count": 63,
   "metadata": {
    "id": "TBdyQv2r_M2X"
   },
   "outputs": [
    {
     "data": {
      "text/plain": [
       "array([ 0.80377175,  4.2674769 ,  6.07294728,  4.52110613,  2.80294175,\n",
       "        4.2032295 ,  3.33127163,  4.72092182,  2.0238409 ,  3.22327616,\n",
       "        2.0255087 ,  1.57940773,  6.82080642,  3.95222668,  2.84541233,\n",
       "        4.82858903,  4.84422343,  3.38489212,  2.74907996,  1.54484684,\n",
       "        3.06900913,  6.75204935,  3.57434245,  4.86976036,  3.07538133,\n",
       "        3.06289027,  4.71001592,  8.38878869,  4.18546172,  6.4662691 ,\n",
       "        3.79409533,  4.74452378,  3.8730601 ,  4.11411047,  3.18539711,\n",
       "        1.21232646,  2.73415362,  4.44851806,  2.57816043,  4.46792726,\n",
       "        6.14469273,  2.83872551,  5.10863229,  6.32918586,  6.65191032,\n",
       "        6.24140115,  4.33239398,  2.67354348,  3.45053122,  5.01830366,\n",
       "        4.82963748, -0.04489202,  2.90961112,  4.74364738,  3.67937503,\n",
       "        4.1795621 ,  4.6467621 ,  0.15499091,  3.26110578,  3.47946374,\n",
       "        1.304199  ,  4.53157787,  5.93609831,  4.52252326,  5.90584271,\n",
       "        4.76526159,  6.83322286,  3.16980225,  4.92552341,  3.68591276,\n",
       "        1.26599408,  6.0247582 ,  3.10971848,  5.58751771,  6.36013075,\n",
       "        3.94474093,  1.63416512,  1.20896959,  2.07399098,  2.50536091,\n",
       "        4.71975717,  4.79371548,  4.81645126,  2.83965606,  3.29750198,\n",
       "        3.11982176,  1.38652104,  3.48464927,  2.12085758,  5.34203465,\n",
       "        3.60405577,  3.31459675,  4.08084156,  2.28490636,  4.17495714,\n",
       "        3.03565416,  4.04977306,  4.44435281,  0.93349834,  2.57365662,\n",
       "        3.91343974,  5.49422063,  2.87842594,  3.19602857,  5.86507065,\n",
       "        2.66188327,  4.47355675,  2.56308064,  3.78133262])"
      ]
     },
     "execution_count": 63,
     "metadata": {},
     "output_type": "execute_result"
    }
   ],
   "source": [
    "# Use a linear regression model\n",
    "from sklearn.linear_model import LinearRegression      #complete this\n",
    "lr = LinearRegression()\n",
    "\n",
    "# Train the model\n",
    "lr.fit(X_train_cv, y_train)                    #complete this\n",
    "\n",
    "# Take the model that was trained on the X_train_cv data and apply it to the X_test_cv\n",
    "y_pred_LR = lr.predict(X_test_cv)\n",
    "y_pred_LR #the output is all of the predictions\n"
   ]
  },
  {
   "cell_type": "code",
   "execution_count": 66,
   "metadata": {
    "id": "Up9NiksJ_M2Y",
    "scrolled": true
   },
   "outputs": [
    {
     "data": {
      "text/plain": [
       "array([1, 5, 5, 5, 5, 5, 5, 5, 1, 4, 1, 1, 5, 5, 1, 5, 5, 1, 1, 1, 5, 5,\n",
       "       5, 4, 1, 5, 5, 5, 5, 5, 5, 5, 5, 5, 5, 2, 5, 1, 5, 5, 5, 1, 5, 5,\n",
       "       5, 5, 5, 4, 5, 5, 5, 1, 1, 5, 5, 5, 5, 1, 5, 5, 1, 5, 5, 5, 5, 5,\n",
       "       5, 5, 5, 5, 1, 5, 5, 5, 5, 5, 1, 2, 1, 1, 5, 5, 5, 5, 2, 5, 1, 5,\n",
       "       2, 5, 5, 5, 5, 5, 5, 5, 5, 5, 1, 5, 5, 5, 5, 5, 5, 1, 5, 1, 5],\n",
       "      dtype=int64)"
      ]
     },
     "execution_count": 66,
     "metadata": {},
     "output_type": "execute_result"
    }
   ],
   "source": [
    "# Use a logistic regression model\n",
    "from sklearn.linear_model import LogisticRegression                  #complete this\n",
    "lr = LogisticRegression()\n",
    "\n",
    "# Train the model\n",
    "lr.fit(X_train_cv, y_train)                   #complete this\n",
    " \n",
    "# Take the model that was trained on the X_train_cv data and apply it to the X_test_cv\n",
    "y_pred_LR = lr.predict(X_test_cv)\n",
    "y_pred_LR #complete this"
   ]
  },
  {
   "cell_type": "markdown",
   "metadata": {
    "id": "Ob4vtOQG_M2Y"
   },
   "source": [
    "### - SVM"
   ]
  },
  {
   "cell_type": "code",
   "execution_count": 67,
   "metadata": {
    "id": "VLTWggkm_M2Y"
   },
   "outputs": [
    {
     "name": "stderr",
     "output_type": "stream",
     "text": [
      "C:\\ProgramData\\anaconda3\\Lib\\site-packages\\sklearn\\svm\\_classes.py:32: FutureWarning: The default value of `dual` will change from `True` to `'auto'` in 1.5. Set the value of `dual` explicitly to suppress the warning.\n",
      "  warnings.warn(\n"
     ]
    },
    {
     "data": {
      "text/plain": [
       "array([1, 5, 5, 5, 5, 5, 5, 5, 1, 4, 1, 1, 5, 5, 1, 5, 5, 1, 1, 1, 2, 5,\n",
       "       5, 4, 1, 5, 5, 5, 5, 5, 5, 4, 5, 5, 5, 2, 5, 1, 2, 5, 5, 4, 5, 5,\n",
       "       5, 5, 5, 4, 5, 5, 5, 1, 1, 5, 5, 5, 5, 1, 5, 5, 1, 5, 5, 3, 5, 5,\n",
       "       5, 1, 5, 5, 1, 5, 4, 5, 5, 5, 1, 3, 1, 1, 5, 5, 5, 2, 5, 4, 1, 5,\n",
       "       3, 5, 5, 5, 5, 1, 5, 5, 5, 5, 1, 5, 5, 5, 5, 5, 5, 1, 5, 1, 5],\n",
       "      dtype=int64)"
      ]
     },
     "execution_count": 67,
     "metadata": {},
     "output_type": "execute_result"
    }
   ],
   "source": [
    "from sklearn.svm import LinearSVC              #complete this\n",
    "svc = LinearSVC()\n",
    "\n",
    "# Train the model\n",
    "svc.fit(X_train_cv, y_train)              #complete this\n",
    "\n",
    "# Take the model that was trained on the X_train_cv data and apply it to the X_test_cv\n",
    "y_pred_svm = svc.predict(X_test_cv)\n",
    "y_pred_svm #complete this\n"
   ]
  },
  {
   "cell_type": "markdown",
   "metadata": {
    "id": "n7wMHaSm_M2Y"
   },
   "source": [
    "### - Decision Tree"
   ]
  },
  {
   "cell_type": "code",
   "execution_count": 68,
   "metadata": {
    "id": "XooN2C_8_M2Y"
   },
   "outputs": [
    {
     "data": {
      "text/plain": [
       "array([1, 4, 5, 5, 2, 5, 3, 5, 4, 2, 5, 3, 5, 5, 5, 5, 5, 1, 1, 5, 1, 1,\n",
       "       5, 1, 1, 5, 5, 3, 5, 5, 5, 5, 5, 4, 4, 2, 5, 5, 5, 5, 5, 2, 1, 5,\n",
       "       4, 5, 5, 3, 5, 4, 5, 1, 5, 5, 5, 4, 5, 2, 5, 5, 2, 5, 5, 5, 5, 2,\n",
       "       5, 5, 5, 1, 1, 5, 5, 5, 5, 5, 2, 4, 1, 5, 5, 1, 5, 5, 2, 5, 1, 5,\n",
       "       2, 5, 5, 5, 5, 1, 5, 1, 5, 5, 2, 5, 5, 5, 5, 5, 5, 1, 5, 5, 5],\n",
       "      dtype=int64)"
      ]
     },
     "execution_count": 68,
     "metadata": {},
     "output_type": "execute_result"
    }
   ],
   "source": [
    "from sklearn import tree                      #complete this\n",
    "tree = tree.DecisionTreeClassifier()\n",
    "\n",
    "# Train the model\n",
    "tree.fit(X_train_cv, y_train)                     #complete this\n",
    "\n",
    "# Take the model that was trained on the X_train_cv data and apply it to the X_test_cv\n",
    "y_pred_dt = tree.predict(X_test_cv)\n",
    "y_pred_dt#complete this"
   ]
  },
  {
   "cell_type": "markdown",
   "metadata": {
    "id": "hgKC-BuN_M2Z"
   },
   "source": [
    "### - Random Forest"
   ]
  },
  {
   "cell_type": "code",
   "execution_count": 69,
   "metadata": {
    "id": "Lm5lN875_M2Z"
   },
   "outputs": [
    {
     "data": {
      "text/plain": [
       "array([5, 5, 5, 5, 5, 5, 5, 5, 5, 5, 5, 5, 5, 5, 5, 5, 5, 5, 5, 5, 5, 5,\n",
       "       5, 5, 5, 5, 5, 5, 5, 5, 5, 5, 5, 5, 5, 5, 5, 5, 5, 5, 5, 5, 5, 5,\n",
       "       5, 5, 5, 5, 5, 5, 5, 5, 5, 5, 5, 5, 5, 5, 5, 5, 5, 5, 5, 5, 5, 5,\n",
       "       5, 5, 5, 5, 5, 5, 5, 5, 5, 5, 5, 5, 5, 5, 5, 5, 5, 5, 5, 5, 5, 5,\n",
       "       5, 5, 5, 5, 5, 5, 5, 5, 5, 5, 5, 5, 5, 5, 5, 5, 5, 5, 5, 5, 5],\n",
       "      dtype=int64)"
      ]
     },
     "execution_count": 69,
     "metadata": {},
     "output_type": "execute_result"
    }
   ],
   "source": [
    "from sklearn.ensemble import RandomForestClassifier     #complete this\n",
    "forest = RandomForestClassifier(max_depth=10, random_state=0)\n",
    "\n",
    "# Train the model\n",
    "forest.fit(X_train_cv, y_train)                      #complete this                  #complete this\n",
    "\n",
    "# Take the model that was trained on the X_train_cv data and apply it to the X_test_cv\n",
    "y_pred_rf = forest.predict(X_test_cv)\n",
    "y_pred_rf#complete this"
   ]
  },
  {
   "cell_type": "markdown",
   "metadata": {
    "id": "az5rD363_M2Z"
   },
   "source": [
    "### - KNN"
   ]
  },
  {
   "cell_type": "code",
   "execution_count": 70,
   "metadata": {
    "id": "E7d7ZhSD_M2Z"
   },
   "outputs": [
    {
     "data": {
      "text/plain": [
       "array([5, 5, 5, 5, 5, 5, 5, 5, 1, 5, 5, 5, 5, 5, 1, 5, 5, 5, 5, 5, 1, 5,\n",
       "       5, 1, 5, 5, 5, 5, 5, 1, 5, 5, 5, 5, 5, 1, 5, 5, 5, 5, 5, 5, 5, 5,\n",
       "       5, 5, 5, 1, 5, 5, 5, 1, 5, 1, 5, 5, 5, 1, 5, 5, 5, 5, 5, 5, 5, 5,\n",
       "       5, 5, 5, 1, 5, 5, 1, 5, 5, 5, 5, 2, 1, 5, 5, 5, 5, 5, 5, 1, 5, 5,\n",
       "       5, 5, 1, 5, 2, 5, 5, 5, 5, 5, 1, 5, 5, 5, 5, 5, 5, 5, 5, 5, 5],\n",
       "      dtype=int64)"
      ]
     },
     "execution_count": 70,
     "metadata": {},
     "output_type": "execute_result"
    }
   ],
   "source": [
    "from sklearn.neighbors import KNeighborsClassifier                 #complete this\n",
    "neigh = KNeighborsClassifier(n_neighbors=3)\n",
    "\n",
    "# Train the model\n",
    "neigh.fit(X_train_cv, y_train)  #complete this\n",
    "\n",
    "# Take the model that was trained on the X_train_cv data and apply it to the X_test_cv\n",
    "y_pred_knn = neigh.predict(X_test_cv)\n",
    "y_pred_knn #complete this"
   ]
  },
  {
   "cell_type": "markdown",
   "metadata": {
    "id": "JN4NMmrq_M2Z"
   },
   "source": [
    "### -  Naive Bayes"
   ]
  },
  {
   "cell_type": "code",
   "execution_count": 71,
   "metadata": {
    "id": "OBPs-aia_M2a"
   },
   "outputs": [
    {
     "data": {
      "text/plain": [
       "array([5, 5, 5, 5, 5, 5, 5, 5, 1, 1, 1, 1, 5, 5, 5, 5, 5, 4, 1, 5, 5, 5,\n",
       "       5, 5, 5, 5, 5, 5, 5, 5, 5, 5, 5, 5, 5, 1, 5, 1, 5, 5, 5, 5, 5, 5,\n",
       "       5, 5, 5, 5, 5, 5, 5, 1, 5, 5, 3, 5, 5, 1, 5, 5, 1, 5, 5, 5, 5, 5,\n",
       "       5, 5, 5, 5, 1, 5, 5, 5, 5, 5, 3, 5, 5, 5, 5, 5, 1, 5, 2, 5, 5, 5,\n",
       "       5, 5, 5, 5, 5, 5, 5, 5, 5, 5, 1, 5, 5, 5, 5, 5, 5, 1, 5, 5, 5],\n",
       "      dtype=int64)"
      ]
     },
     "execution_count": 71,
     "metadata": {},
     "output_type": "execute_result"
    }
   ],
   "source": [
    "from sklearn.naive_bayes import MultinomialNB  #complete this\n",
    "import numpy as np\n",
    "nb = MultinomialNB()\n",
    "\n",
    "# Train the model\n",
    "nb.fit(X_train_cv.toarray(), y_train) #complete this\n",
    "\n",
    "# Take the model that was trained on the X_train_cv data and apply it to the X_test_cv\n",
    "y_pred_nb = nb.predict(X_test_cv)\n",
    "y_pred_nb #complete this\n"
   ]
  },
  {
   "cell_type": "markdown",
   "metadata": {
    "id": "ZvD9FyXf_M2a"
   },
   "source": [
    "### <font color=\"Blue\">Step 5:</font> Evaluate the Model - Accuracy Measurement\n",
    "Generate the accuracy scores for Linear Regression, SVM, Decision Tree, Random Forest, KNN, and Naive Bayes.  "
   ]
  },
  {
   "cell_type": "code",
   "execution_count": 73,
   "metadata": {
    "id": "R-ib3bZ2_M2a"
   },
   "outputs": [
    {
     "name": "stdout",
     "output_type": "stream",
     "text": [
      "Accuracy score for LR: 0.71\n",
      "Accuracy score for SVM: 0.69\n",
      "Accuracy score for DT: 0.55\n",
      "Accuracy score for RF: 0.54\n",
      "Accuracy score for KNN: 0.56\n",
      "Accuracy score for NB: 0.65\n"
     ]
    }
   ],
   "source": [
    "from sklearn.metrics import accuracy_score                  #complete this\n",
    "lra = accuracy_score(y_test, y_pred_LR)\n",
    "svm = accuracy_score(y_test, y_pred_svm)\n",
    "dt = accuracy_score(y_test, y_pred_dt)\n",
    "rf = accuracy_score(y_test, y_pred_rf)\n",
    "knn = accuracy_score(y_test, y_pred_knn)\n",
    "nb = accuracy_score(y_test, y_pred_nb)\n",
    "\n",
    "print(\"Accuracy score for LR: %.2f\" % lra)\n",
    "print(\"Accuracy score for SVM: %.2f\" % svm)\n",
    "print(\"Accuracy score for DT: %.2f\" % dt)\n",
    "print(\"Accuracy score for RF: %.2f\" % rf)\n",
    "print(\"Accuracy score for KNN: %.2f\" % knn)\n",
    "print(\"Accuracy score for NB: %.2f\" % nb)"
   ]
  },
  {
   "cell_type": "markdown",
   "metadata": {
    "id": "CTTf68iW_M2a"
   },
   "source": [
    "__Example Output:__\n",
    "- Accuracy score for LR  = 0.1651\n",
    "- Accuracy score for SVM = 0.5413\n",
    "- Accuracy score for DT  = 0.5505\n",
    "- Accuracy score for RF  = 0.5872\n",
    "- Accuracy score for KNN = 0.5963\n",
    "- Accuracy score for NB  = 0.6514"
   ]
  },
  {
   "cell_type": "markdown",
   "metadata": {
    "id": "r1yxEuUd_M2b"
   },
   "source": [
    "# Question 3\n",
    "Predict the rate of this review,\n",
    "\n",
    "<font color=\"blue\">__\"like Cafe Vienna instant coffee products with the convenience of Keurig. All authorized on-line sellers cannot carry them\"__\n",
    "\n"
   ]
  },
  {
   "cell_type": "markdown",
   "metadata": {
    "id": "ke-mMhKX_M2b"
   },
   "source": [
    "by using Linear Regression, SVM, Decision Tree, Random Forest, KNN, and Naive Bayes"
   ]
  },
  {
   "cell_type": "code",
   "execution_count": 76,
   "metadata": {
    "id": "ZGrDnUYw_M2b"
   },
   "outputs": [
    {
     "name": "stdout",
     "output_type": "stream",
     "text": [
      "[4]\n"
     ]
    }
   ],
   "source": [
    "import pandas as pd\n",
    "from pandas import DataFrame\n",
    "# S0 = [\"I dislike this coffee, terrible taste and very greasy.\"]\n",
    "# S1 = [\"This has to be the worst tasting coffee.this is the by far the worst. Don't waste your money on this product.\"]\n",
    "S2 = [\"like Cafe Vienna instant coffee products with the convenience of Keurig. All authorized on-line sellers cannot carry them \"]\n",
    "\n",
    "Snew = cv.transform(S2)\n",
    "lry = lr.predict(Snew)\n",
    "print(lry)"
   ]
  },
  {
   "cell_type": "code",
   "execution_count": 77,
   "metadata": {
    "id": "wjaE6Wv4_M2b"
   },
   "outputs": [
    {
     "name": "stdout",
     "output_type": "stream",
     "text": [
      "Enter a sentence: the coffee is very bad\n",
      "Predicted Label: 5\n"
     ]
    }
   ],
   "source": [
    "import pandas as pd\n",
    "from pandas import DataFrame\n",
    "\n",
    "# Take user input\n",
    "user_input = input(\"Enter a sentence: \")                              #complete this\n",
    "\n",
    "Snew = cv.transform([user_input])                                #complete this\n",
    "lry = lr.predict(Snew)                                #complete this\n",
    "print(\"Predicted Label:\", lry[0]) "
   ]
  },
  {
   "cell_type": "code",
   "execution_count": null,
   "metadata": {},
   "outputs": [],
   "source": []
  }
 ],
 "metadata": {
  "colab": {
   "provenance": []
  },
  "kernelspec": {
   "display_name": "Python 3 (ipykernel)",
   "language": "python",
   "name": "python3"
  },
  "language_info": {
   "codemirror_mode": {
    "name": "ipython",
    "version": 3
   },
   "file_extension": ".py",
   "mimetype": "text/x-python",
   "name": "python",
   "nbconvert_exporter": "python",
   "pygments_lexer": "ipython3",
   "version": "3.11.5"
  }
 },
 "nbformat": 4,
 "nbformat_minor": 4
}
